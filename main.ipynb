{
 "cells": [
  {
   "cell_type": "code",
   "execution_count": null,
   "id": "c4145678-2cb8-49e9-8f6b-b5ff2dd7f11d",
   "metadata": {},
   "outputs": [],
   "source": [
    "!git clone https://github.com/sayan1999/Blover"
   ]
  },
  {
   "cell_type": "code",
   "execution_count": null,
   "id": "63f4318c-f772-4a5f-8ea2-756575e32a3d",
   "metadata": {},
   "outputs": [],
   "source": [
    "!pip install transformers\n",
    "!pip install diffusers\n",
    "!pip install flask-ngrok\n",
    "!pip install accelerate\n",
    "!pip install xformers"
   ]
  },
  {
   "cell_type": "code",
   "execution_count": null,
   "id": "3f17e6d2-7294-4db8-9601-34a0a898d136",
   "metadata": {},
   "outputs": [],
   "source": [
    "!wget https://bin.equinox.io/c/4VmDzA7iaHb/ngrok-stable-linux-amd64.tgz\n",
    "!tar -xvf /content/ngrok-stable-linux-amd64.tgz\n",
    "!./ngrok authtoken <your_authtoken_from_your_ngrok_account>"
   ]
  },
  {
   "cell_type": "code",
   "execution_count": null,
   "id": "bb54f301-dcc9-4bfe-9c45-d5ff36cc84fe",
   "metadata": {},
   "outputs": [],
   "source": [
    "!cd Blover && python colabapp.py"
   ]
  }
 ],
 "metadata": {
  "kernelspec": {
   "display_name": "Python 3 (ipykernel)",
   "language": "python",
   "name": "python3"
  },
  "language_info": {
   "codemirror_mode": {
    "name": "ipython",
    "version": 3
   },
   "file_extension": ".py",
   "mimetype": "text/x-python",
   "name": "python",
   "nbconvert_exporter": "python",
   "pygments_lexer": "ipython3",
   "version": "3.10.6"
  }
 },
 "nbformat": 4,
 "nbformat_minor": 5
}
