{
 "cells": [
  {
   "cell_type": "code",
   "execution_count": 1,
   "id": "c4145678-2cb8-49e9-8f6b-b5ff2dd7f11d",
   "metadata": {},
   "outputs": [
    {
     "name": "stdout",
     "output_type": "stream",
     "text": [
      " * Serving Flask app 'app'\n",
      " * Debug mode: off\n"
     ]
    },
    {
     "name": "stderr",
     "output_type": "stream",
     "text": [
      "\u001b[31m\u001b[1mWARNING: This is a development server. Do not use it in a production deployment. Use a production WSGI server instead.\u001b[0m\n",
      " * Running on all addresses (0.0.0.0)\n",
      " * Running on http://127.0.0.1:8080\n",
      " * Running on http://192.168.0.115:8080\n",
      "\u001b[33mPress CTRL+C to quit\u001b[0m\n"
     ]
    }
   ],
   "source": [
    "# Creating a Web server using Python and Flask\n",
    "\n",
    "from flask import Flask, render_template, request, make_response, jsonify, Response\n",
    "import io\n",
    "import base64\n",
    "from PIL import Image\n",
    "\n",
    "from blover import BLOG, COVER, UPSCALAR, BLOVER\n",
    "\n",
    "from flask_ngrok import run_with_ngrok\n",
    "\n",
    "\n",
    "def b_summarize(text):\n",
    "    BLOG().summarize(text)\n",
    "\n",
    "\n",
    "def b_createcover():\n",
    "    COVER().create()\n",
    "\n",
    "\n",
    "app = Flask(\"app\")\n",
    "\n",
    "run_with_ngrok(app)\n",
    "\n",
    "@app.route(\"/\")\n",
    "def run():\n",
    "    return render_template(\"index.html\")\n",
    "\n",
    "\n",
    "@app.route(\"/summarize\", methods=[\"POST\"])\n",
    "def summarize():\n",
    "    print(\"Blog->>>>>>>>>\", request.get_json()[\"blog\"])\n",
    "    b_summarize(request.get_json()[\"blog\"].strip())\n",
    "    return jsonify({\"summary\": BLOVER.summary})\n",
    "\n",
    "\n",
    "@app.route(\"/createcover\", methods=[\"GET\"])\n",
    "def createcover():\n",
    "    if not BLOVER.summary:\n",
    "        print(\"Summary missing, can't create cover\")\n",
    "        img = Image.open(\"static/DpT093HUcAIH6D-.jpeg\")\n",
    "    else:\n",
    "        b_createcover()\n",
    "        img = Image.open(BLOVER.cover)\n",
    "    # img = img.convert(\"L\")  # ie. convert to grayscale\n",
    "\n",
    "    # data = file.stream.read()\n",
    "    # data = base64.b64encode(data).decode()\n",
    "\n",
    "    buffer = io.BytesIO()\n",
    "    img.save(buffer, \"png\")\n",
    "    buffer.seek(0)\n",
    "\n",
    "    data = buffer.read()\n",
    "    data = base64.b64encode(data).decode()\n",
    "    return data\n",
    "    # return f'<img src=\"data:image/png;base64,{data}\">'\n",
    "\n",
    "\n",
    "app.run()\n"
   ]
  },
  {
   "cell_type": "code",
   "execution_count": null,
   "id": "63f4318c-f772-4a5f-8ea2-756575e32a3d",
   "metadata": {},
   "outputs": [],
   "source": []
  }
 ],
 "metadata": {
  "kernelspec": {
   "display_name": "Python 3 (ipykernel)",
   "language": "python",
   "name": "python3"
  },
  "language_info": {
   "codemirror_mode": {
    "name": "ipython",
    "version": 3
   },
   "file_extension": ".py",
   "mimetype": "text/x-python",
   "name": "python",
   "nbconvert_exporter": "python",
   "pygments_lexer": "ipython3",
   "version": "3.10.6"
  }
 },
 "nbformat": 4,
 "nbformat_minor": 5
}
