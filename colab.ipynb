{
 "cells": [
  {
   "cell_type": "code",
   "execution_count": 1,
   "id": "c4145678-2cb8-49e9-8f6b-b5ff2dd7f11d",
   "metadata": {},
   "outputs": [
    {
     "name": "stdout",
     "output_type": "stream",
     "text": [
      "Cloning into 'Blover'...\n",
      "remote: Enumerating objects: 29, done.\u001b[K\n",
      "remote: Counting objects: 100% (29/29), done.\u001b[K\n",
      "remote: Compressing objects: 100% (21/21), done.\u001b[K\n",
      "remote: Total 29 (delta 8), reused 22 (delta 4), pack-reused 0\u001b[K\n",
      "Receiving objects: 100% (29/29), 1.03 MiB | 1.26 MiB/s, done.\n",
      "Resolving deltas: 100% (8/8), done.\n"
     ]
    }
   ],
   "source": [
    "!git clone https://github.com/sayan1999/Blover"
   ]
  },
  {
   "cell_type": "code",
   "execution_count": 2,
   "id": "63f4318c-f772-4a5f-8ea2-756575e32a3d",
   "metadata": {},
   "outputs": [
    {
     "name": "stdout",
     "output_type": "stream",
     "text": [
      "Requirement already satisfied: transformers in ./env/lib/python3.10/site-packages (4.31.0)\n",
      "Requirement already satisfied: filelock in ./env/lib/python3.10/site-packages (from transformers) (3.12.2)\n",
      "Requirement already satisfied: huggingface-hub<1.0,>=0.14.1 in ./env/lib/python3.10/site-packages (from transformers) (0.16.4)\n",
      "Requirement already satisfied: numpy>=1.17 in ./env/lib/python3.10/site-packages (from transformers) (1.25.1)\n",
      "Requirement already satisfied: packaging>=20.0 in ./env/lib/python3.10/site-packages (from transformers) (23.1)\n",
      "Requirement already satisfied: pyyaml>=5.1 in ./env/lib/python3.10/site-packages (from transformers) (6.0.1)\n",
      "Requirement already satisfied: regex!=2019.12.17 in ./env/lib/python3.10/site-packages (from transformers) (2023.6.3)\n",
      "Requirement already satisfied: requests in ./env/lib/python3.10/site-packages (from transformers) (2.31.0)\n",
      "Requirement already satisfied: tokenizers!=0.11.3,<0.14,>=0.11.1 in ./env/lib/python3.10/site-packages (from transformers) (0.13.3)\n",
      "Requirement already satisfied: safetensors>=0.3.1 in ./env/lib/python3.10/site-packages (from transformers) (0.3.1)\n",
      "Requirement already satisfied: tqdm>=4.27 in ./env/lib/python3.10/site-packages (from transformers) (4.65.0)\n",
      "Requirement already satisfied: fsspec in ./env/lib/python3.10/site-packages (from huggingface-hub<1.0,>=0.14.1->transformers) (2023.6.0)\n",
      "Requirement already satisfied: typing-extensions>=3.7.4.3 in ./env/lib/python3.10/site-packages (from huggingface-hub<1.0,>=0.14.1->transformers) (4.7.1)\n",
      "Requirement already satisfied: charset-normalizer<4,>=2 in ./env/lib/python3.10/site-packages (from requests->transformers) (3.2.0)\n",
      "Requirement already satisfied: idna<4,>=2.5 in ./env/lib/python3.10/site-packages (from requests->transformers) (3.4)\n",
      "Requirement already satisfied: urllib3<3,>=1.21.1 in ./env/lib/python3.10/site-packages (from requests->transformers) (2.0.4)\n",
      "Requirement already satisfied: certifi>=2017.4.17 in ./env/lib/python3.10/site-packages (from requests->transformers) (2023.7.22)\n",
      "Requirement already satisfied: diffusers in ./env/lib/python3.10/site-packages (0.18.2)\n",
      "Requirement already satisfied: Pillow in ./env/lib/python3.10/site-packages (from diffusers) (10.0.0)\n",
      "Requirement already satisfied: filelock in ./env/lib/python3.10/site-packages (from diffusers) (3.12.2)\n",
      "Requirement already satisfied: huggingface-hub>=0.13.2 in ./env/lib/python3.10/site-packages (from diffusers) (0.16.4)\n",
      "Requirement already satisfied: importlib-metadata in ./env/lib/python3.10/site-packages (from diffusers) (6.8.0)\n",
      "Requirement already satisfied: numpy in ./env/lib/python3.10/site-packages (from diffusers) (1.25.1)\n",
      "Requirement already satisfied: regex!=2019.12.17 in ./env/lib/python3.10/site-packages (from diffusers) (2023.6.3)\n",
      "Requirement already satisfied: requests in ./env/lib/python3.10/site-packages (from diffusers) (2.31.0)\n",
      "Requirement already satisfied: fsspec in ./env/lib/python3.10/site-packages (from huggingface-hub>=0.13.2->diffusers) (2023.6.0)\n",
      "Requirement already satisfied: tqdm>=4.42.1 in ./env/lib/python3.10/site-packages (from huggingface-hub>=0.13.2->diffusers) (4.65.0)\n",
      "Requirement already satisfied: pyyaml>=5.1 in ./env/lib/python3.10/site-packages (from huggingface-hub>=0.13.2->diffusers) (6.0.1)\n",
      "Requirement already satisfied: typing-extensions>=3.7.4.3 in ./env/lib/python3.10/site-packages (from huggingface-hub>=0.13.2->diffusers) (4.7.1)\n",
      "Requirement already satisfied: packaging>=20.9 in ./env/lib/python3.10/site-packages (from huggingface-hub>=0.13.2->diffusers) (23.1)\n",
      "Requirement already satisfied: zipp>=0.5 in ./env/lib/python3.10/site-packages (from importlib-metadata->diffusers) (3.16.2)\n",
      "Requirement already satisfied: charset-normalizer<4,>=2 in ./env/lib/python3.10/site-packages (from requests->diffusers) (3.2.0)\n",
      "Requirement already satisfied: idna<4,>=2.5 in ./env/lib/python3.10/site-packages (from requests->diffusers) (3.4)\n",
      "Requirement already satisfied: urllib3<3,>=1.21.1 in ./env/lib/python3.10/site-packages (from requests->diffusers) (2.0.4)\n",
      "Requirement already satisfied: certifi>=2017.4.17 in ./env/lib/python3.10/site-packages (from requests->diffusers) (2023.7.22)\n",
      "Collecting flask-ngrok\n",
      "  Downloading flask_ngrok-0.0.25-py3-none-any.whl (3.1 kB)\n",
      "Requirement already satisfied: Flask>=0.8 in ./env/lib/python3.10/site-packages (from flask-ngrok) (2.3.2)\n",
      "Requirement already satisfied: requests in ./env/lib/python3.10/site-packages (from flask-ngrok) (2.31.0)\n",
      "Requirement already satisfied: Werkzeug>=2.3.3 in ./env/lib/python3.10/site-packages (from Flask>=0.8->flask-ngrok) (2.3.6)\n",
      "Requirement already satisfied: Jinja2>=3.1.2 in ./env/lib/python3.10/site-packages (from Flask>=0.8->flask-ngrok) (3.1.2)\n",
      "Requirement already satisfied: itsdangerous>=2.1.2 in ./env/lib/python3.10/site-packages (from Flask>=0.8->flask-ngrok) (2.1.2)\n",
      "Requirement already satisfied: click>=8.1.3 in ./env/lib/python3.10/site-packages (from Flask>=0.8->flask-ngrok) (8.1.6)\n",
      "Requirement already satisfied: blinker>=1.6.2 in ./env/lib/python3.10/site-packages (from Flask>=0.8->flask-ngrok) (1.6.2)\n",
      "Requirement already satisfied: charset-normalizer<4,>=2 in ./env/lib/python3.10/site-packages (from requests->flask-ngrok) (3.2.0)\n",
      "Requirement already satisfied: idna<4,>=2.5 in ./env/lib/python3.10/site-packages (from requests->flask-ngrok) (3.4)\n",
      "Requirement already satisfied: urllib3<3,>=1.21.1 in ./env/lib/python3.10/site-packages (from requests->flask-ngrok) (2.0.4)\n",
      "Requirement already satisfied: certifi>=2017.4.17 in ./env/lib/python3.10/site-packages (from requests->flask-ngrok) (2023.7.22)\n",
      "Requirement already satisfied: MarkupSafe>=2.0 in ./env/lib/python3.10/site-packages (from Jinja2>=3.1.2->Flask>=0.8->flask-ngrok) (2.1.3)\n",
      "Installing collected packages: flask-ngrok\n",
      "Successfully installed flask-ngrok-0.0.25\n",
      "Requirement already satisfied: accelerate in ./env/lib/python3.10/site-packages (0.21.0)\n",
      "Requirement already satisfied: numpy>=1.17 in ./env/lib/python3.10/site-packages (from accelerate) (1.25.1)\n",
      "Requirement already satisfied: packaging>=20.0 in ./env/lib/python3.10/site-packages (from accelerate) (23.1)\n",
      "Requirement already satisfied: psutil in ./env/lib/python3.10/site-packages (from accelerate) (5.9.5)\n",
      "Requirement already satisfied: pyyaml in ./env/lib/python3.10/site-packages (from accelerate) (6.0.1)\n",
      "Requirement already satisfied: torch>=1.10.0 in ./env/lib/python3.10/site-packages (from accelerate) (2.0.1)\n",
      "Requirement already satisfied: filelock in ./env/lib/python3.10/site-packages (from torch>=1.10.0->accelerate) (3.12.2)\n",
      "Requirement already satisfied: typing-extensions in ./env/lib/python3.10/site-packages (from torch>=1.10.0->accelerate) (4.7.1)\n",
      "Requirement already satisfied: sympy in ./env/lib/python3.10/site-packages (from torch>=1.10.0->accelerate) (1.12)\n",
      "Requirement already satisfied: networkx in ./env/lib/python3.10/site-packages (from torch>=1.10.0->accelerate) (3.1)\n",
      "Requirement already satisfied: jinja2 in ./env/lib/python3.10/site-packages (from torch>=1.10.0->accelerate) (3.1.2)\n",
      "Requirement already satisfied: nvidia-cuda-nvrtc-cu11==11.7.99 in ./env/lib/python3.10/site-packages (from torch>=1.10.0->accelerate) (11.7.99)\n",
      "Requirement already satisfied: nvidia-cuda-runtime-cu11==11.7.99 in ./env/lib/python3.10/site-packages (from torch>=1.10.0->accelerate) (11.7.99)\n",
      "Requirement already satisfied: nvidia-cuda-cupti-cu11==11.7.101 in ./env/lib/python3.10/site-packages (from torch>=1.10.0->accelerate) (11.7.101)\n",
      "Requirement already satisfied: nvidia-cudnn-cu11==8.5.0.96 in ./env/lib/python3.10/site-packages (from torch>=1.10.0->accelerate) (8.5.0.96)\n",
      "Requirement already satisfied: nvidia-cublas-cu11==11.10.3.66 in ./env/lib/python3.10/site-packages (from torch>=1.10.0->accelerate) (11.10.3.66)\n",
      "Requirement already satisfied: nvidia-cufft-cu11==10.9.0.58 in ./env/lib/python3.10/site-packages (from torch>=1.10.0->accelerate) (10.9.0.58)\n",
      "Requirement already satisfied: nvidia-curand-cu11==10.2.10.91 in ./env/lib/python3.10/site-packages (from torch>=1.10.0->accelerate) (10.2.10.91)\n",
      "Requirement already satisfied: nvidia-cusolver-cu11==11.4.0.1 in ./env/lib/python3.10/site-packages (from torch>=1.10.0->accelerate) (11.4.0.1)\n",
      "Requirement already satisfied: nvidia-cusparse-cu11==11.7.4.91 in ./env/lib/python3.10/site-packages (from torch>=1.10.0->accelerate) (11.7.4.91)\n",
      "Requirement already satisfied: nvidia-nccl-cu11==2.14.3 in ./env/lib/python3.10/site-packages (from torch>=1.10.0->accelerate) (2.14.3)\n",
      "Requirement already satisfied: nvidia-nvtx-cu11==11.7.91 in ./env/lib/python3.10/site-packages (from torch>=1.10.0->accelerate) (11.7.91)\n",
      "Requirement already satisfied: triton==2.0.0 in ./env/lib/python3.10/site-packages (from torch>=1.10.0->accelerate) (2.0.0)\n",
      "Requirement already satisfied: setuptools in ./env/lib/python3.10/site-packages (from nvidia-cublas-cu11==11.10.3.66->torch>=1.10.0->accelerate) (67.7.2)\n",
      "Requirement already satisfied: wheel in ./env/lib/python3.10/site-packages (from nvidia-cublas-cu11==11.10.3.66->torch>=1.10.0->accelerate) (0.40.0)\n",
      "Requirement already satisfied: cmake in ./env/lib/python3.10/site-packages (from triton==2.0.0->torch>=1.10.0->accelerate) (3.27.0)\n",
      "Requirement already satisfied: lit in ./env/lib/python3.10/site-packages (from triton==2.0.0->torch>=1.10.0->accelerate) (16.0.6)\n",
      "Requirement already satisfied: MarkupSafe>=2.0 in ./env/lib/python3.10/site-packages (from jinja2->torch>=1.10.0->accelerate) (2.1.3)\n",
      "Requirement already satisfied: mpmath>=0.19 in ./env/lib/python3.10/site-packages (from sympy->torch>=1.10.0->accelerate) (1.3.0)\n",
      "Requirement already satisfied: xformers in ./env/lib/python3.10/site-packages (0.0.20)\n",
      "Requirement already satisfied: numpy in ./env/lib/python3.10/site-packages (from xformers) (1.25.1)\n",
      "Requirement already satisfied: pyre-extensions==0.0.29 in ./env/lib/python3.10/site-packages (from xformers) (0.0.29)\n",
      "Requirement already satisfied: torch==2.0.1 in ./env/lib/python3.10/site-packages (from xformers) (2.0.1)\n",
      "Requirement already satisfied: typing-inspect in ./env/lib/python3.10/site-packages (from pyre-extensions==0.0.29->xformers) (0.9.0)\n",
      "Requirement already satisfied: typing-extensions in ./env/lib/python3.10/site-packages (from pyre-extensions==0.0.29->xformers) (4.7.1)\n",
      "Requirement already satisfied: filelock in ./env/lib/python3.10/site-packages (from torch==2.0.1->xformers) (3.12.2)\n",
      "Requirement already satisfied: sympy in ./env/lib/python3.10/site-packages (from torch==2.0.1->xformers) (1.12)\n",
      "Requirement already satisfied: networkx in ./env/lib/python3.10/site-packages (from torch==2.0.1->xformers) (3.1)\n",
      "Requirement already satisfied: jinja2 in ./env/lib/python3.10/site-packages (from torch==2.0.1->xformers) (3.1.2)\n",
      "Requirement already satisfied: nvidia-cuda-nvrtc-cu11==11.7.99 in ./env/lib/python3.10/site-packages (from torch==2.0.1->xformers) (11.7.99)\n",
      "Requirement already satisfied: nvidia-cuda-runtime-cu11==11.7.99 in ./env/lib/python3.10/site-packages (from torch==2.0.1->xformers) (11.7.99)\n",
      "Requirement already satisfied: nvidia-cuda-cupti-cu11==11.7.101 in ./env/lib/python3.10/site-packages (from torch==2.0.1->xformers) (11.7.101)\n",
      "Requirement already satisfied: nvidia-cudnn-cu11==8.5.0.96 in ./env/lib/python3.10/site-packages (from torch==2.0.1->xformers) (8.5.0.96)\n",
      "Requirement already satisfied: nvidia-cublas-cu11==11.10.3.66 in ./env/lib/python3.10/site-packages (from torch==2.0.1->xformers) (11.10.3.66)\n",
      "Requirement already satisfied: nvidia-cufft-cu11==10.9.0.58 in ./env/lib/python3.10/site-packages (from torch==2.0.1->xformers) (10.9.0.58)\n",
      "Requirement already satisfied: nvidia-curand-cu11==10.2.10.91 in ./env/lib/python3.10/site-packages (from torch==2.0.1->xformers) (10.2.10.91)\n",
      "Requirement already satisfied: nvidia-cusolver-cu11==11.4.0.1 in ./env/lib/python3.10/site-packages (from torch==2.0.1->xformers) (11.4.0.1)\n",
      "Requirement already satisfied: nvidia-cusparse-cu11==11.7.4.91 in ./env/lib/python3.10/site-packages (from torch==2.0.1->xformers) (11.7.4.91)\n",
      "Requirement already satisfied: nvidia-nccl-cu11==2.14.3 in ./env/lib/python3.10/site-packages (from torch==2.0.1->xformers) (2.14.3)\n",
      "Requirement already satisfied: nvidia-nvtx-cu11==11.7.91 in ./env/lib/python3.10/site-packages (from torch==2.0.1->xformers) (11.7.91)\n",
      "Requirement already satisfied: triton==2.0.0 in ./env/lib/python3.10/site-packages (from torch==2.0.1->xformers) (2.0.0)\n",
      "Requirement already satisfied: setuptools in ./env/lib/python3.10/site-packages (from nvidia-cublas-cu11==11.10.3.66->torch==2.0.1->xformers) (67.7.2)\n",
      "Requirement already satisfied: wheel in ./env/lib/python3.10/site-packages (from nvidia-cublas-cu11==11.10.3.66->torch==2.0.1->xformers) (0.40.0)\n",
      "Requirement already satisfied: cmake in ./env/lib/python3.10/site-packages (from triton==2.0.0->torch==2.0.1->xformers) (3.27.0)\n",
      "Requirement already satisfied: lit in ./env/lib/python3.10/site-packages (from triton==2.0.0->torch==2.0.1->xformers) (16.0.6)\n",
      "Requirement already satisfied: MarkupSafe>=2.0 in ./env/lib/python3.10/site-packages (from jinja2->torch==2.0.1->xformers) (2.1.3)\n",
      "Requirement already satisfied: mpmath>=0.19 in ./env/lib/python3.10/site-packages (from sympy->torch==2.0.1->xformers) (1.3.0)\n",
      "Requirement already satisfied: mypy-extensions>=0.3.0 in ./env/lib/python3.10/site-packages (from typing-inspect->pyre-extensions==0.0.29->xformers) (1.0.0)\n"
     ]
    }
   ],
   "source": [
    "!pip install transformers\n",
    "!pip install diffusers\n",
    "!pip install flask-ngrok\n",
    "!pip install accelerate\n",
    "!pip install xformers"
   ]
  },
  {
   "cell_type": "code",
   "execution_count": 3,
   "id": "3f17e6d2-7294-4db8-9601-34a0a898d136",
   "metadata": {},
   "outputs": [
    {
     "name": "stdout",
     "output_type": "stream",
     "text": [
      "--2023-07-31 23:05:55--  https://bin.equinox.io/c/4VmDzA7iaHb/ngrok-stable-linux-amd64.tgz\n",
      "Resolving bin.equinox.io (bin.equinox.io)... 54.161.241.46, 18.205.222.128, 52.202.168.65, ...\n",
      "Connecting to bin.equinox.io (bin.equinox.io)|54.161.241.46|:443... connected.\n",
      "HTTP request sent, awaiting response... 200 OK\n",
      "Length: 13856790 (13M) [application/octet-stream]\n",
      "Saving to: ‘ngrok-stable-linux-amd64.tgz’\n",
      "\n",
      "ngrok-stable-linux- 100%[===================>]  13.21M   760KB/s    in 14s     \n",
      "\n",
      "2023-07-31 23:06:10 (950 KB/s) - ‘ngrok-stable-linux-amd64.tgz’ saved [13856790/13856790]\n",
      "\n",
      "tar: /content/ngrok-stable-linux-amd64.tgz: Cannot open: No such file or directory\n",
      "tar: Error is not recoverable: exiting now\n",
      "zsh:1: parse error near `>'\n"
     ]
    }
   ],
   "source": [
    "!wget https://bin.equinox.io/c/4VmDzA7iaHb/ngrok-stable-linux-amd64.tgz\n",
    "!tar -xvf /content/ngrok-stable-linux-amd64.tgz\n",
    "!./ngrok authtoken <your_authtoken_from_your_ngrok_account>"
   ]
  },
  {
   "cell_type": "code",
   "execution_count": null,
   "id": "bb54f301-dcc9-4bfe-9c45-d5ff36cc84fe",
   "metadata": {},
   "outputs": [
    {
     "name": "stdout",
     "output_type": "stream",
     "text": [
      "90\n",
      " * Serving Flask app 'app'\n",
      " * Debug mode: off\n"
     ]
    },
    {
     "name": "stderr",
     "output_type": "stream",
     "text": [
      "\u001b[31m\u001b[1mWARNING: This is a development server. Do not use it in a production deployment. Use a production WSGI server instead.\u001b[0m\n",
      " * Running on all addresses (0.0.0.0)\n",
      " * Running on http://127.0.0.1:8080\n",
      " * Running on http://192.168.0.115:8080\n",
      "\u001b[33mPress CTRL+C to quit\u001b[0m\n"
     ]
    },
    {
     "name": "stdout",
     "output_type": "stream",
     "text": [
      "Summarizing blog\n"
     ]
    },
    {
     "name": "stderr",
     "output_type": "stream",
     "text": [
      "127.0.0.1 - - [31/Jul/2023 23:10:20] \"POST /summarize HTTP/1.1\" 200 -\n"
     ]
    },
    {
     "name": "stdout",
     "output_type": "stream",
     "text": [
      "Intermediate Summaries ->>>>>>>>>>>>>>>>>>>>>>>>>\n",
      " ['There were 885 active fires burning in Canada on Wednesday, according to the latest interagency tally. The fires have scorched at least 11 million hectares — or over 27.1 million acres — of land across Canada this year. In June, the acreage burned']\n",
      "Summary of blog is ->>>>>>>>>>>>>>>>>>>>>>>>>\n",
      "There were 885 active fires burning in Canada on Wednesday, according to the latest interagency tally. The fires have scorched at least 11 million hectares — or over 27.1 million acres — of land across Canada this year. In June, the acreage burned\n",
      "Creating cover\n"
     ]
    },
    {
     "name": "stderr",
     "output_type": "stream",
     "text": [
      "[2023-07-31 23:11:15,963] ERROR in app: Exception on /createcover [GET]\n",
      "Traceback (most recent call last):\n",
      "  File \"/media/instantinopaul/data/Code/ML/BlogCover/env/lib/python3.10/site-packages/flask/app.py\", line 2190, in wsgi_app\n",
      "    response = self.full_dispatch_request()\n",
      "  File \"/media/instantinopaul/data/Code/ML/BlogCover/env/lib/python3.10/site-packages/flask/app.py\", line 1486, in full_dispatch_request\n",
      "    rv = self.handle_user_exception(e)\n",
      "  File \"/media/instantinopaul/data/Code/ML/BlogCover/env/lib/python3.10/site-packages/flask/app.py\", line 1484, in full_dispatch_request\n",
      "    rv = self.dispatch_request()\n",
      "  File \"/media/instantinopaul/data/Code/ML/BlogCover/env/lib/python3.10/site-packages/flask/app.py\", line 1469, in dispatch_request\n",
      "    return self.ensure_sync(self.view_functions[rule.endpoint])(**view_args)\n",
      "  File \"/media/instantinopaul/data/Code/ML/BlogCover/app.py\", line 40, in createcover\n",
      "    b_createcover()\n",
      "  File \"/media/instantinopaul/data/Code/ML/BlogCover/app.py\", line 16, in b_createcover\n",
      "    COVER().create()\n",
      "  File \"/media/instantinopaul/data/Code/ML/BlogCover/blover.py\", line 128, in create\n",
      "    BLOVER.low_res_latents = self.pipe(\n",
      "  File \"/media/instantinopaul/data/Code/ML/BlogCover/env/lib/python3.10/site-packages/torch/utils/_contextlib.py\", line 115, in decorate_context\n",
      "    return func(*args, **kwargs)\n",
      "  File \"/media/instantinopaul/data/Code/ML/BlogCover/env/lib/python3.10/site-packages/diffusers/pipelines/stable_diffusion/pipeline_stable_diffusion.py\", line 666, in __call__\n",
      "    self.check_inputs(\n",
      "  File \"/media/instantinopaul/data/Code/ML/BlogCover/env/lib/python3.10/site-packages/diffusers/pipelines/stable_diffusion/pipeline_stable_diffusion.py\", line 511, in check_inputs\n",
      "    raise ValueError(f\"`height` and `width` have to be divisible by 8 but are {height} and {width}.\")\n",
      "ValueError: `height` and `width` have to be divisible by 8 but are 544 and 90.\n",
      "127.0.0.1 - - [31/Jul/2023 23:11:15] \"\u001b[35m\u001b[1mGET /createcover HTTP/1.1\u001b[0m\" 500 -\n"
     ]
    }
   ],
   "source": [
    "import sys, os\n",
    "is_colab = lambda: \"COLAB_GPU\" in os.environ\n",
    "sys.path.append('Blover')\n",
    "from app import app\n",
    "if is_colab():\n",
    "    from flask_ngrok import run_with_ngrok\n",
    "import blover\n",
    "\n",
    "blover.PROMPT_LEN, blover.MAX_N_TOKEN = 100, 1024\n",
    "blover.WIDTH, blover.HEIGHT = 960, 544\n",
    "blover.GUIDANCE = 7.5\n",
    "blover.EPOCHS = 35\n",
    "blover.UPSCALE_EPOCHS = 10\n",
    "blover.OUTPUT_DIR = \"OUTPUTS\"\n",
    "# blover.GOOD_PROMPT = \"extremely detailed CG unity 8k wallpaper),masterpiece,(high detailed skin:1.2),\\\n",
    "# 8k uhd, dslr, soft lighting, high quality, film grain, ujifilm XT3\"\n",
    "\n",
    "# blover.NEGATIVE_PROMPTS = \"blurry, boring, close-up, dark, details are low, distorted details,\\\n",
    "#  eerie, foggy, gloomy, grains, grainy, grayscale, homogenous, low contrast, low quality,\\\n",
    "#  lowres, macro, monochrome, multiple angles, multiple views, opaque, overexposed, oversaturated,\\\n",
    "#  plain, plain background, portrait, simple background, standard, surreal, unattractive, uncreative, underexposed\"\n",
    "\n",
    "if is_colab():\n",
    "    run_with_ngrok(app)\n",
    "    \n",
    "app.run()"
   ]
  },
  {
   "cell_type": "code",
   "execution_count": null,
   "id": "980f33b1-1c77-409d-a007-10829eb13e71",
   "metadata": {},
   "outputs": [],
   "source": []
  }
 ],
 "metadata": {
  "kernelspec": {
   "display_name": "Python 3 (ipykernel)",
   "language": "python",
   "name": "python3"
  },
  "language_info": {
   "codemirror_mode": {
    "name": "ipython",
    "version": 3
   },
   "file_extension": ".py",
   "mimetype": "text/x-python",
   "name": "python",
   "nbconvert_exporter": "python",
   "pygments_lexer": "ipython3",
   "version": "3.10.12"
  }
 },
 "nbformat": 4,
 "nbformat_minor": 5
}
